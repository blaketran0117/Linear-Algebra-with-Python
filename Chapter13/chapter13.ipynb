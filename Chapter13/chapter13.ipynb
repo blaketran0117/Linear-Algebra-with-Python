{
 "cells": [
  {
   "cell_type": "code",
   "execution_count": 2,
   "metadata": {},
   "outputs": [
    {
     "name": "stdout",
     "output_type": "stream",
     "text": [
      "[-0.37228132  5.37228132]\n"
     ]
    }
   ],
   "source": [
    "## Eigendecomposition\n",
    "\n",
    "## Only defined for square matrices. Every M x M matrix has M eigenvalues(scalars) and M corresponding eigenvectors\n",
    "\n",
    "## Finding eigenvalues\n",
    "import numpy as np\n",
    "\n",
    "matrix=np.array([\n",
    "    [1,2],\n",
    "    [3,4]\n",
    "])\n",
    "\n",
    "evals = np.linalg.eig(matrix)[0]\n",
    "print(evals)\n",
    "\n"
   ]
  },
  {
   "cell_type": "code",
   "execution_count": 3,
   "metadata": {},
   "outputs": [
    {
     "name": "stdout",
     "output_type": "stream",
     "text": [
      "[-0.37228132  5.37228132]\n",
      "[[-0.82456484 -0.41597356]\n",
      " [ 0.56576746 -0.90937671]]\n"
     ]
    },
    {
     "data": {
      "text/plain": [
       "(None, None)"
      ]
     },
     "execution_count": 3,
     "metadata": {},
     "output_type": "execute_result"
    }
   ],
   "source": [
    "## Finding eigenvectors\n",
    "\n",
    "evals,evecs= np.linalg.eig(matrix)\n",
    "print(evals),print(evecs)\n"
   ]
  },
  {
   "cell_type": "code",
   "execution_count": 6,
   "metadata": {},
   "outputs": [
    {
     "name": "stdout",
     "output_type": "stream",
     "text": [
      "[[-0.37228132  0.        ]\n",
      " [ 0.          5.37228132]]\n"
     ]
    }
   ],
   "source": [
    "## Diagonalizing a Square Matrix\n",
    "evals,evecs =np.linalg.eig(matrix)\n",
    "D =np.diag(evals)\n",
    "print(D)"
   ]
  },
  {
   "cell_type": "code",
   "execution_count": null,
   "metadata": {},
   "outputs": [],
   "source": [
    "## Orthogonal Eigenvectors\n",
    "\n",
    "## Symmetric matrices have orthogonal eigenvectors \n",
    "\n",
    "## Eigendecomposition of Singular Matrices\n",
    "\n"
   ]
  }
 ],
 "metadata": {
  "kernelspec": {
   "display_name": "Python 3.10.6 64-bit",
   "language": "python",
   "name": "python3"
  },
  "language_info": {
   "codemirror_mode": {
    "name": "ipython",
    "version": 3
   },
   "file_extension": ".py",
   "mimetype": "text/x-python",
   "name": "python",
   "nbconvert_exporter": "python",
   "pygments_lexer": "ipython3",
   "version": "3.10.6"
  },
  "orig_nbformat": 4,
  "vscode": {
   "interpreter": {
    "hash": "aee8b7b246df8f9039afb4144a1f6fd8d2ca17a180786b69acc140d282b71a49"
   }
  }
 },
 "nbformat": 4,
 "nbformat_minor": 2
}
