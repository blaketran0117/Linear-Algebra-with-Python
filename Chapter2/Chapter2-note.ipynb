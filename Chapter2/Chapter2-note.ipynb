{
 "cells": [
  {
   "cell_type": "markdown",
   "metadata": {},
   "source": [
    "### Chapter 2- Vector part 1 "
   ]
  },
  {
   "cell_type": "markdown",
   "metadata": {},
   "source": [
    "Vectors has 2 important characteristics: \n",
    "\n",
    "1. Dimensionality: the number os numbers in the vector\n",
    "2. Orientation: whether the vector is in column orientation(standing up tall) or row orientation(laying flat and wide)"
   ]
  },
  {
   "cell_type": "code",
   "execution_count": null,
   "metadata": {},
   "outputs": [],
   "source": [
    "import numpy as np\n",
    "\n",
    "asList =[1,2,3]\n",
    "asArray=np.array([1,2,3]) #1D array\n",
    "rowVector= np.array([[1,2,3]]) #row\n",
    "colVector=np.array([[1],[2],[3]]) #column\n",
    "\n",
    "# Inspecting the shape of the variables:\n",
    "print(f'aslist: {np.shape(asList)}')\n",
    "print(f'aslist: {asArray.shape}')\n",
    "print(f'aslist: {rowVector.shape}')\n",
    "print(f'aslist: {colVector.shape}')\n"
   ]
  },
  {
   "cell_type": "markdown",
   "metadata": {},
   "source": [
    "## Geometry of Vectors"
   ]
  },
  {
   "cell_type": "markdown",
   "metadata": {},
   "source": [
    "## Operations on Vectos"
   ]
  },
  {
   "cell_type": "markdown",
   "metadata": {},
   "source": [
    "1. Adding 2 vectors\n",
    "2. Subtracting 2 vectors"
   ]
  },
  {
   "cell_type": "code",
   "execution_count": 14,
   "metadata": {},
   "outputs": [
    {
     "name": "stdout",
     "output_type": "stream",
     "text": [
      "Can't add 2 vectors of different dimension\n",
      "[[2 3 4]\n",
      " [3 4 5]\n",
      " [4 5 6]]\n"
     ]
    }
   ],
   "source": [
    "# Adding vectors require them to be in a same dimensions\n",
    "u = np.array([1,2,3])\n",
    "v=np.array([4,5,6])\n",
    "w=np.array([1,2,3,4])\n",
    "uPlusv= u + v\n",
    "try: \n",
    "    uPlusw= u + w\n",
    "except(ValueError):\n",
    "    print(\"Can\\'t add 2 vectors of different dimension\")\n",
    "\n",
    "# Does vector orientation matter for vector addition:\n",
    "result= rowVector + colVector\n",
    "print(result)\n",
    "\n"
   ]
  },
  {
   "cell_type": "markdown",
   "metadata": {},
   "source": [
    "## In Python you can only add Vectors together if they have the same dimension and orientation"
   ]
  },
  {
   "cell_type": "code",
   "execution_count": 12,
   "metadata": {},
   "outputs": [
    {
     "name": "stdout",
     "output_type": "stream",
     "text": [
      "[1 2 3]\n",
      "[3 6 9]\n",
      "Can't multiply list by a integer value\n",
      "[2. 4. 6.]\n"
     ]
    }
   ],
   "source": [
    "## Vector-Scalar Multiplication \n",
    "print(u)\n",
    "print(u * 3)\n",
    "\n",
    "## The Zeros Vector\n",
    "## Asterisk operator for array and list\n",
    "s=2.0\n",
    "a=[1,2,3]\n",
    "b=np.array(a)\n",
    "try :\n",
    "    print(a*s)\n",
    "except(TypeError):\n",
    "    print('Can\\'t multiply list by an integer value')\n",
    "print(b*s)"
   ]
  },
  {
   "cell_type": "code",
   "execution_count": 40,
   "metadata": {},
   "outputs": [
    {
     "name": "stdout",
     "output_type": "stream",
     "text": [
      "[[11 21]\n",
      " [12 22]\n",
      " [13 23]]\n"
     ]
    }
   ],
   "source": [
    "## Vector Broadcasting in Python\n",
    "\n",
    "v = np.array([[1,2,3]]).T\n",
    "w=np.array([[10,20]])\n",
    "print(v+w)"
   ]
  },
  {
   "cell_type": "code",
   "execution_count": null,
   "metadata": {},
   "outputs": [],
   "source": [
    "## Vector Magnitude and Unit Vectors \n",
    "A = np.array([1,2,3,4,5])\n",
    "print(A)\n",
    "print(A_1)\n",
    "# To find the dimensionality use len()\n",
    "print(len(A))\n",
    "\n",
    "# To find the geometric length or the norm use norm \n",
    "print(np.linalg.norm(A))\n",
    "\n",
    "unit_vector = (1/np.linalg.norm(A)) * A \n",
    "print(unit_vector)\n",
    "# The magnitude of a vector also call the geometric length or the norm is the distance from the tail to head of a vector."
   ]
  },
  {
   "cell_type": "code",
   "execution_count": 39,
   "metadata": {},
   "outputs": [
    {
     "name": "stdout",
     "output_type": "stream",
     "text": [
      "60\n",
      "[ 5.  0. 24.  1.]\n"
     ]
    }
   ],
   "source": [
    "## Vector Dot Product or inner product \n",
    "## The dot product is a single number that provides information about the relationship between two vectors\n",
    "\n",
    "v = np.array([1,2,3,4])\n",
    "m = np.array([4,5,6,7])\n",
    "dot_product_a_b= np.dot(v,m)\n",
    "print(dot_product_a_b)\n",
    "\n",
    "#Geometry of the Dot Product\n",
    "\n",
    "## Orthogonal Vectors has a Zero Dot Product\n",
    "\n",
    "## Hadamard Multiplication or element-wise multiplication\n",
    "a= np.array([5,4,8,2])\n",
    "b=np.array([1,0,3,0.5]).T\n",
    "print(a*b)\n",
    "\n",
    "\n"
   ]
  },
  {
   "cell_type": "markdown",
   "metadata": {},
   "source": [
    "### Outer Product"
   ]
  },
  {
   "cell_type": "code",
   "execution_count": 38,
   "metadata": {},
   "outputs": [
    {
     "name": "stdout",
     "output_type": "stream",
     "text": [
      "[[ 4  5  6]\n",
      " [ 8 10 12]\n",
      " [12 15 18]]\n"
     ]
    }
   ],
   "source": [
    "a = np.array([1,2,3])\n",
    "b=np.array([4,5,6])\n",
    "\n",
    "print(np.outer(a,b))"
   ]
  },
  {
   "cell_type": "markdown",
   "metadata": {},
   "source": [
    "Orthogonal Vector Decomposition"
   ]
  }
 ],
 "metadata": {
  "kernelspec": {
   "display_name": "Python 3.10.6 64-bit",
   "language": "python",
   "name": "python3"
  },
  "language_info": {
   "codemirror_mode": {
    "name": "ipython",
    "version": 3
   },
   "file_extension": ".py",
   "mimetype": "text/x-python",
   "name": "python",
   "nbconvert_exporter": "python",
   "pygments_lexer": "ipython3",
   "version": "3.10.6"
  },
  "orig_nbformat": 4,
  "vscode": {
   "interpreter": {
    "hash": "aee8b7b246df8f9039afb4144a1f6fd8d2ca17a180786b69acc140d282b71a49"
   }
  }
 },
 "nbformat": 4,
 "nbformat_minor": 2
}
