{
 "cells": [
  {
   "cell_type": "markdown",
   "metadata": {},
   "source": [
    "Marices, part 1"
   ]
  },
  {
   "cell_type": "code",
   "execution_count": 2,
   "metadata": {},
   "outputs": [
    {
     "data": {
      "text/plain": [
       "array([[10, 11, 12, 13, 14],\n",
       "       [20, 21, 22, 23, 24],\n",
       "       [30, 31, 32, 33, 34]])"
      ]
     },
     "execution_count": 2,
     "metadata": {},
     "output_type": "execute_result"
    }
   ],
   "source": [
    "## Creating and Visualizing Matrices in Numpy\n",
    "import numpy as np\n",
    "\n",
    "## Creating a matrix with elements range from 1 to 60, which 6 rows and 10 columns:\n",
    "A = np.arange(60).reshape(6,10)\n",
    "sub_matrix=A[1:4:1,0:5:1]\n",
    "sub_matrix"
   ]
  },
  {
   "cell_type": "code",
   "execution_count": 10,
   "metadata": {},
   "outputs": [
    {
     "name": "stdout",
     "output_type": "stream",
     "text": [
      "[[1 2 3]\n",
      " [0 2 3]\n",
      " [0 0 3]]\n",
      "[[4 0 0]\n",
      " [4 5 0]\n",
      " [4 5 6]]\n",
      "[[1 0 0 0 0]\n",
      " [0 1 0 0 0]\n",
      " [0 0 1 0 0]\n",
      " [0 0 0 1 0]\n",
      " [0 0 0 0 1]]\n",
      "[[0. 0. 0. 0. 0.]\n",
      " [0. 0. 0. 0. 0.]\n",
      " [0. 0. 0. 0. 0.]]\n"
     ]
    }
   ],
   "source": [
    "## Special Matrices\n",
    "\n",
    "## Random numbers matrix\n",
    "\n",
    "A = np.random.randn(3,3)\n",
    "A \n",
    "\n",
    "## Square matrix: \n",
    "### Diagonal matrix:\n",
    "B =np.diag(np.array([1,2,3]))\n",
    "B\n",
    "\n",
    "## Triangular Matrix: \n",
    "#A triangular matrix contains all zeros either above or below the main diagonal. The matrix is called upper triangular if the nonzero elements are above the diagonal and lower triangular if the nonzero elements are below the diagonal.\n",
    "upper_triangular_matrix= np.triu(np.array([1,2,3]))\n",
    "lower_triagular_matrix=np.tril(np.array([4,5,6]))\n",
    "\n",
    "print(upper_triangular_matrix)\n",
    "print(lower_triagular_matrix)\n",
    "\n",
    "## Identity matrix\n",
    "identity_matrix = np.eye(5,5,dtype=int)\n",
    "print(identity_matrix)\n",
    "\n",
    "## Zeros matrix\n",
    "zeros_matrix= np.zeros((3,5))\n",
    "print(zeros_matrix)\n",
    "\n",
    "\n"
   ]
  },
  {
   "cell_type": "code",
   "execution_count": 15,
   "metadata": {},
   "outputs": [
    {
     "name": "stdout",
     "output_type": "stream",
     "text": [
      "[[ 4  0  4]\n",
      " [ 5  1  9]\n",
      " [ 1 11  7]]\n"
     ]
    },
    {
     "data": {
      "text/plain": [
       "array([[10.,  0.,  4.],\n",
       "       [ 5.,  7.,  9.],\n",
       "       [ 1., 11., 13.]])"
      ]
     },
     "execution_count": 15,
     "metadata": {},
     "output_type": "execute_result"
    }
   ],
   "source": [
    "## Shifting of a matrix\n",
    "\n",
    "A = np.array([[4,5,1],[0,1,11],[4,9,7]])\n",
    "s=6\n",
    "A + s # not shifting\n",
    "A + s*np.eye(len(A)) # shifting"
   ]
  },
  {
   "cell_type": "code",
   "execution_count": null,
   "metadata": {},
   "outputs": [],
   "source": [
    "## Element-wise or Hadamard multiplication of matrix \n",
    "A*B\n",
    "np.multiply(A,B)\n"
   ]
  },
  {
   "cell_type": "code",
   "execution_count": 24,
   "metadata": {},
   "outputs": [
    {
     "name": "stdout",
     "output_type": "stream",
     "text": [
      "[[ 30  36  42]\n",
      " [ 66  81  96]\n",
      " [102 126 150]]\n",
      "[[ 30  36  42]\n",
      " [ 66  81  96]\n",
      " [102 126 150]]\n"
     ]
    }
   ],
   "source": [
    "## Standard Matrix Multiplication\n",
    "\n",
    "A = np.arange(1,10).reshape(3,3)\n",
    "B= np.arange(1,10).reshape(3,3)\n",
    "print(A@B)\n",
    "C = np.dot(A,B)\n",
    "print(C)"
   ]
  },
  {
   "cell_type": "code",
   "execution_count": null,
   "metadata": {},
   "outputs": [],
   "source": []
  }
 ],
 "metadata": {
  "kernelspec": {
   "display_name": "Python 3.10.6 64-bit",
   "language": "python",
   "name": "python3"
  },
  "language_info": {
   "codemirror_mode": {
    "name": "ipython",
    "version": 3
   },
   "file_extension": ".py",
   "mimetype": "text/x-python",
   "name": "python",
   "nbconvert_exporter": "python",
   "pygments_lexer": "ipython3",
   "version": "3.10.6"
  },
  "orig_nbformat": 4,
  "vscode": {
   "interpreter": {
    "hash": "aee8b7b246df8f9039afb4144a1f6fd8d2ca17a180786b69acc140d282b71a49"
   }
  }
 },
 "nbformat": 4,
 "nbformat_minor": 2
}
