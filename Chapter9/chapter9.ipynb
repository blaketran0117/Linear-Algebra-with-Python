{
 "cells": [
  {
   "cell_type": "code",
   "execution_count": 2,
   "metadata": {},
   "outputs": [
    {
     "name": "stdout",
     "output_type": "stream",
     "text": [
      "[[1.00000000e+00 2.23711432e-17]\n",
      " [2.23711432e-17 1.00000000e+00]]\n",
      "[[1.00000000e+00 2.46716228e-17 1.54197642e-17]\n",
      " [2.46716228e-17 1.00000000e+00 1.23358114e-17]\n",
      " [1.54197642e-17 1.23358114e-17 1.00000000e+00]]\n"
     ]
    }
   ],
   "source": [
    "import numpy as np\n",
    "\n",
    "## Chapter 9 \n",
    "## Orthogonal Matrices and QR Decomposition\n",
    "\n",
    "\n",
    "## Orthogonal Matrices:\n",
    "\n",
    "# 1 . All columns are pair-wise orthogonal\n",
    "# 2. The norm of each column is exactly 1 \n",
    "\n",
    "# The inverse of an orthogonal matrix is its transpose\n",
    "\n",
    "\n",
    "Q1 = np.array([[1,-1],[1,1]]) / np.sqrt(2)\n",
    "Q2 = np.array([[1,2,2],[2,1,-2],[-2,2,-1]]) / 3\n",
    "\n",
    "print(Q1.T@Q1)\n",
    "print(Q2.T@Q2)\n",
    "\n",
    "\n"
   ]
  },
  {
   "cell_type": "markdown",
   "metadata": {},
   "source": [
    "Gram-Schmidt \n",
    "\n"
   ]
  },
  {
   "cell_type": "markdown",
   "metadata": {},
   "source": [
    "The Gram-Schmidt procedure is a way to transform a nonorthogonal matrix into an orthogonal matrix."
   ]
  },
  {
   "cell_type": "code",
   "execution_count": 5,
   "metadata": {},
   "outputs": [
    {
     "name": "stdout",
     "output_type": "stream",
     "text": [
      "[[-0.9969992   0.03795515  0.06746845]\n",
      " [-0.067584   -0.00176814 -0.99771202]\n",
      " [-0.03774901 -0.99927788  0.004328  ]]\n",
      "[[-1.08371112 -1.04654184  0.68939426]\n",
      " [ 0.          0.62740285  0.44465055]\n",
      " [ 0.          0.          0.65749457]]\n",
      "[[ 1.08045913  1.06721455 -0.62608861]\n",
      " [ 0.07324154  0.06962015 -0.70336847]\n",
      " [ 0.04090902 -0.58744387 -0.46750778]]\n",
      "[[ 1.08045913  1.06721455 -0.62608861]\n",
      " [ 0.07324154  0.06962015 -0.70336847]\n",
      " [ 0.04090902 -0.58744387 -0.46750778]]\n"
     ]
    }
   ],
   "source": [
    "## Making QR decomposition\n",
    "\n",
    "A = np.random.randn(3,3)\n",
    "Q,R = np.linalg.qr(A)\n",
    "print(Q)\n",
    "print(R)\n",
    "print(A)\n",
    "print(Q@R)"
   ]
  }
 ],
 "metadata": {
  "kernelspec": {
   "display_name": "Python 3.10.6 64-bit",
   "language": "python",
   "name": "python3"
  },
  "language_info": {
   "codemirror_mode": {
    "name": "ipython",
    "version": 3
   },
   "file_extension": ".py",
   "mimetype": "text/x-python",
   "name": "python",
   "nbconvert_exporter": "python",
   "pygments_lexer": "ipython3",
   "version": "3.10.6"
  },
  "orig_nbformat": 4,
  "vscode": {
   "interpreter": {
    "hash": "aee8b7b246df8f9039afb4144a1f6fd8d2ca17a180786b69acc140d282b71a49"
   }
  }
 },
 "nbformat": 4,
 "nbformat_minor": 2
}
