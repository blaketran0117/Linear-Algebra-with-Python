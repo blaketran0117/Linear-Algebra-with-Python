{
 "cells": [
  {
   "cell_type": "markdown",
   "metadata": {},
   "source": [
    "## Row Reduction and LU Decomposition\n",
    "\n"
   ]
  },
  {
   "cell_type": "markdown",
   "metadata": {},
   "source": [
    "System of Equations\n",
    "\n"
   ]
  },
  {
   "cell_type": "code",
   "execution_count": null,
   "metadata": {},
   "outputs": [],
   "source": [
    "import numpy as np\n",
    "\n",
    "A = np.random.randn(4,4)\n"
   ]
  },
  {
   "cell_type": "code",
   "execution_count": 4,
   "metadata": {},
   "outputs": [
    {
     "data": {
      "text/latex": [
       "$\\displaystyle \\left[\\begin{matrix}1 & 0 & 1.33333333333333\\\\0 & 1 & 2.66666666666667\\end{matrix}\\right]$"
      ],
      "text/plain": [
       "Matrix([\n",
       "[1, 0, 1.33333333333333],\n",
       "[0, 1, 2.66666666666667]])"
      ]
     },
     "execution_count": 4,
     "metadata": {},
     "output_type": "execute_result"
    }
   ],
   "source": [
    "## Row reduction\n",
    "\n",
    "## Gauss-Jordan Elimination\n",
    "import sympy as sym\n",
    "import numpy as np\n",
    "\n",
    "M = np.array([[1,1,4],[-1/2,1,2]])\n",
    "symMat=sym.Matrix(M)\n",
    "\n",
    "symMat.rref()[0]\n",
    "\n",
    "\n"
   ]
  },
  {
   "cell_type": "code",
   "execution_count": 6,
   "metadata": {},
   "outputs": [
    {
     "name": "stdout",
     "output_type": "stream",
     "text": [
      "L : [[1.  0.  0. ]\n",
      " [0.5 1.  0. ]\n",
      " [1.  1.  1. ]]\n",
      "U: [[ 2.  2.  4.]\n",
      " [ 0. -1.  1.]\n",
      " [ 0.  0. -3.]]\n",
      "Permutation: [[1. 0. 0.]\n",
      " [0. 1. 0.]\n",
      " [0. 0. 1.]]\n"
     ]
    }
   ],
   "source": [
    "## LU Decompisition\n",
    "import scipy.linalg\n",
    "\n",
    "A = np.array([[2,2,4],[1,0,3],[2,1,2]])\n",
    "_,L,U = scipy.linalg.lu(A)\n",
    "\n",
    "print(f'L : {L}')\n",
    "print(f'U: {U}')\n",
    "print(f'Permutation: {_}')"
   ]
  },
  {
   "cell_type": "code",
   "execution_count": null,
   "metadata": {},
   "outputs": [],
   "source": [
    "## Row Swaps via Permutation Matrices \n",
    "\n",
    "## Full from of LU decomposition is \n",
    "## PA = LU\n",
    "## A = P.TLU\n",
    "# Permutation matrix are orthogonal matrix \n"
   ]
  }
 ],
 "metadata": {
  "kernelspec": {
   "display_name": "Python 3.10.6 64-bit",
   "language": "python",
   "name": "python3"
  },
  "language_info": {
   "codemirror_mode": {
    "name": "ipython",
    "version": 3
   },
   "file_extension": ".py",
   "mimetype": "text/x-python",
   "name": "python",
   "nbconvert_exporter": "python",
   "pygments_lexer": "ipython3",
   "version": "3.10.6"
  },
  "orig_nbformat": 4,
  "vscode": {
   "interpreter": {
    "hash": "aee8b7b246df8f9039afb4144a1f6fd8d2ca17a180786b69acc140d282b71a49"
   }
  }
 },
 "nbformat": 4,
 "nbformat_minor": 2
}
