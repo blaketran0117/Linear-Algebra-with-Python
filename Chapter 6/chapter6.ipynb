{
 "cells": [
  {
   "cell_type": "code",
   "execution_count": null,
   "metadata": {},
   "outputs": [],
   "source": [
    "#Matrices part 2\n",
    "\n",
    "#Matrices norm (element wise norm)\n",
    "## Frobenius norm is computed as the square riit if the sum of all matrix elements squared\n",
    "\n",
    "## Matrix trace \n",
    "# The trace of a matrix is the sum of its diagonal elements, indicated as tr(A) and exists only in square matrices\n",
    "\n",
    "\n"
   ]
  },
  {
   "cell_type": "markdown",
   "metadata": {},
   "source": [
    "Matrix Spaces\n",
    "\n",
    "Column Space "
   ]
  },
  {
   "cell_type": "markdown",
   "metadata": {},
   "source": [
    "Null Spaces\n"
   ]
  },
  {
   "cell_type": "code",
   "execution_count": 1,
   "metadata": {},
   "outputs": [
    {
     "name": "stdout",
     "output_type": "stream",
     "text": [
      "[[0.70710678]\n",
      " [0.70710678]]\n",
      "[]\n"
     ]
    }
   ],
   "source": [
    "import scipy as scipy\n",
    "import numpy as np\n",
    "\n",
    "A =np.array([[1,-1],[-2,2]])\n",
    "B=np.array([[1,-1],[-2,3]])\n",
    "\n",
    "print(scipy.linalg.null_space(A))\n",
    "print(scipy.linalg.null_space(B))\n",
    "\n"
   ]
  },
  {
   "cell_type": "markdown",
   "metadata": {},
   "source": [
    "Rank \n",
    "\n"
   ]
  },
  {
   "cell_type": "markdown",
   "metadata": {},
   "source": [
    "Determinant \n",
    "\n",
    "Associated with a square matrix \n",
    "\n",
    "use np.linalg.det()"
   ]
  },
  {
   "cell_type": "markdown",
   "metadata": {},
   "source": [
    "The Characteristic Polynomial\n",
    "\n"
   ]
  }
 ],
 "metadata": {
  "kernelspec": {
   "display_name": "Python 3.10.6 64-bit",
   "language": "python",
   "name": "python3"
  },
  "language_info": {
   "codemirror_mode": {
    "name": "ipython",
    "version": 3
   },
   "file_extension": ".py",
   "mimetype": "text/x-python",
   "name": "python",
   "nbconvert_exporter": "python",
   "pygments_lexer": "ipython3",
   "version": "3.10.6"
  },
  "orig_nbformat": 4,
  "vscode": {
   "interpreter": {
    "hash": "aee8b7b246df8f9039afb4144a1f6fd8d2ca17a180786b69acc140d282b71a49"
   }
  }
 },
 "nbformat": 4,
 "nbformat_minor": 2
}
