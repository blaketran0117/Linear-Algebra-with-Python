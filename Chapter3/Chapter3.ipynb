{
 "cells": [
  {
   "cell_type": "markdown",
   "metadata": {},
   "source": [
    "## Vector part 2"
   ]
  },
  {
   "cell_type": "markdown",
   "metadata": {},
   "source": [
    "## Vector Sets"
   ]
  },
  {
   "cell_type": "markdown",
   "metadata": {},
   "source": [
    "The collection of vectos is called a set.\n",
    "   V ={v1,....vn}\n",
    "\n"
   ]
  },
  {
   "cell_type": "markdown",
   "metadata": {},
   "source": [
    "### Linear Weighted Combination"
   ]
  },
  {
   "cell_type": "code",
   "execution_count": null,
   "metadata": {},
   "outputs": [],
   "source": []
  },
  {
   "cell_type": "markdown",
   "metadata": {},
   "source": [
    "Subspace and Span \n"
   ]
  },
  {
   "cell_type": "markdown",
   "metadata": {},
   "source": [
    "When I introduced linear weighted combinations, I gave examples with specific numerical values for the weights (e.g., λ1 = 1, λ3 = − 3). A subspace is the same idea but using the infinity of possible ways to linearly combine the vectors in the set."
   ]
  },
  {
   "cell_type": "markdown",
   "metadata": {},
   "source": [
    "Basis\n",
    "\n",
    "Change of unit vector. Think of cm,m,miles\n",
    "\n",
    "Basis is simply the combination of span and independence: a set of vectors can be a basis for some subspace if it (1) spans that subspacce and (2) is an independent set of vectors"
   ]
  },
  {
   "cell_type": "code",
   "execution_count": 13,
   "metadata": {},
   "outputs": [
    {
     "name": "stdout",
     "output_type": "stream",
     "text": [
      "[[ -7.]\n",
      " [ -4.]\n",
      " [-13.]]\n"
     ]
    }
   ],
   "source": [
    "## 3-1\n",
    "import numpy as np\n",
    "\n",
    "scalars=[1,2,-3]\n",
    "list_of_vector=[np.array([[4],[5],[1]]),np.array([[-4],[0],[-4]]),np.array([[1],[3],[2]])]\n",
    "output_vector = np.zeros((3,1))\n",
    "\n",
    "for i in range(0,3):\n",
    "    output_vector += list_of_vector[i] * scalars[i] \n",
    "\n",
    "\n",
    "print(output_vector)"
   ]
  }
 ],
 "metadata": {
  "kernelspec": {
   "display_name": "Python 3.10.6 64-bit",
   "language": "python",
   "name": "python3"
  },
  "language_info": {
   "codemirror_mode": {
    "name": "ipython",
    "version": 3
   },
   "file_extension": ".py",
   "mimetype": "text/x-python",
   "name": "python",
   "nbconvert_exporter": "python",
   "pygments_lexer": "ipython3",
   "version": "3.10.6"
  },
  "orig_nbformat": 4,
  "vscode": {
   "interpreter": {
    "hash": "aee8b7b246df8f9039afb4144a1f6fd8d2ca17a180786b69acc140d282b71a49"
   }
  }
 },
 "nbformat": 4,
 "nbformat_minor": 2
}
